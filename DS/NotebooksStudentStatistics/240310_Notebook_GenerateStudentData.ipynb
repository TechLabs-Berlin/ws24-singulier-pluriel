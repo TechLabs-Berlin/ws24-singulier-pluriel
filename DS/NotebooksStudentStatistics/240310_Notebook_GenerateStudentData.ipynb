{
  "nbformat": 4,
  "nbformat_minor": 0,
  "metadata": {
    "colab": {
      "provenance": []
    },
    "kernelspec": {
      "name": "python3",
      "display_name": "Python 3"
    },
    "language_info": {
      "name": "python"
    }
  },
  "cells": [
    {
      "cell_type": "code",
      "execution_count": null,
      "metadata": {
        "colab": {
          "base_uri": "https://localhost:8080/"
        },
        "id": "MruXrxM9dkpl",
        "outputId": "f56a9c0b-8c2c-4780-f83f-ba4994dd5c30"
      },
      "outputs": [
        {
          "output_type": "stream",
          "name": "stdout",
          "text": [
            "Mounted at /content/drive\n"
          ]
        }
      ],
      "source": [
        "from google.colab import drive\n",
        "drive.mount('/content/drive')"
      ]
    },
    {
      "cell_type": "code",
      "source": [
        "%cd drive/MyDrive/TechLabs/01_Introduction\\ to\\ Python\\ Programming"
      ],
      "metadata": {
        "colab": {
          "base_uri": "https://localhost:8080/"
        },
        "id": "qCP84FzXdzgl",
        "outputId": "869069f6-7145-4c24-fd8a-7ecce521f54c"
      },
      "execution_count": null,
      "outputs": [
        {
          "output_type": "stream",
          "name": "stdout",
          "text": [
            "[Errno 2] No such file or directory: 'drive/MyDrive/TechLabs/01_Introduction to Python Programming'\n",
            "/content/drive/MyDrive/TechLabs/01_Introduction to Python Programming\n"
          ]
        }
      ]
    },
    {
      "cell_type": "code",
      "source": [
        "import numpy as np\n",
        "import pandas as pd\n",
        "import random"
      ],
      "metadata": {
        "id": "37QZ8vcVu4Cw"
      },
      "execution_count": null,
      "outputs": []
    },
    {
      "cell_type": "code",
      "source": [
        "df_f = pd.read_excel('data/240310_Techlabs_Students_female.xlsx')\n",
        "df_m = pd.read_excel('data/240310_Techlabs_Students_male.xlsx')"
      ],
      "metadata": {
        "id": "TFK93Fhju7Z0"
      },
      "execution_count": null,
      "outputs": []
    },
    {
      "cell_type": "code",
      "source": [
        "df_f = pd.DataFrame(columns=['id', 'name', 'gender', 'age', 'course', 'level', 'points', 'pass_fail'])\n",
        "df_m = pd.DataFrame(columns=['id', 'name', 'gender', 'age', 'course', 'level', 'points', 'pass_fail'])"
      ],
      "metadata": {
        "id": "UPbQ1txB77Dy"
      },
      "execution_count": null,
      "outputs": []
    },
    {
      "cell_type": "code",
      "source": [
        "names_f = [\"Olivia\", \"Emma\", \"Amelia\", \"Sophia\", \"Charlotte\", \"Ava\", \"Isabella\", \"Mia\", \"Luna\", \"Evelyn\", \"Gianna\", \"Lily\", \"Aria\", \"Aurora\", \"Ellie\", \"Harper\", \"Mila\", \"Sofia\", \"Camila\", \"Layla\", \"Nova\", \"Eliana\", \"Ella\", \"Violet\", \"Hazel\", \"Willow\", \"Chloe\", \"Ivy\", \"Scarlett\", \"Penelope\", \"Eleanor\", \"Elena\", \"Avery\", \"Nora\", \"Abigail\", \"Emily\", \"Maya\", \"Isla\", \"Delilah\", \"Naomi\", \"Elizabeth\", \"Grace\", \"Zoey\", \"Emilia\", \"Riley\", \"Zoe\", \"Paisley\", \"Athena\", \"Leilani\", \"Madison\", \"Victoria\", \"Ayla\", \"Stella\", \"Lucy\", \"Kinsley\", \"Iris\", \"Gabriella\", \"Lainey\", \"Aaliyah\", \"Serenity\", \"Addison\", \"Alice\", \"Bella\", \"Sadie\", \"Sophie\", \"Amara\", \"Autumn\", \"Summer\", \"Emery\", \"Everly\", \"Valentina\", \"Hannah\", \"Brooklyn\", \"Madelyn\", \"Natalie\", \"Leah\", \"Maria\", \"Savannah\", \"Amira\", \"Aubrey\", \"Jade\", \"Jasmine\", \"Eden\", \"Skylar\", \"Josie\", \"Clara\", \"Adeline\", \"Elliana\", \"Millie\", \"Lillian\", \"Melody\", \"Sarah\", \"Eva\", \"Ruby\", \"Freya\", \"Lyla\", \"Adalynn\", \"Liliana\", \"Daisy\", \"Nevaeh\"]"
      ],
      "metadata": {
        "id": "JaGLo_6Wu7W3"
      },
      "execution_count": null,
      "outputs": []
    },
    {
      "cell_type": "code",
      "source": [
        "random_names_f = np.random.choice(names_f, (50,1))"
      ],
      "metadata": {
        "id": "OU43am_au7QL"
      },
      "execution_count": null,
      "outputs": []
    },
    {
      "cell_type": "code",
      "source": [
        "names_m = [\"Noah\", \"Liam\", \"Oliver\", \"Elijah\", \"Mateo\", \"Lucas\", \"Levi\", \"Leo\", \"Ezra\", \"Luca\", \"Asher\", \"James\", \"Ethan\", \"Sebastian\", \"Henry\", \"Muhammad\", \"Hudson\", \"Maverick\", \"Benjamin\", \"Theo\", \"Kai\", \"Jackson\", \"Michael\", \"Daniel\", \"Aiden\", \"Gabriel\", \"Josiah\", \"Mason\", \"Jack\", \"Elias\", \"Grayson\", \"Alexander\", \"Luke\", \"Julian\", \"Jayden\", \"David\", \"Logan\", \"Theodore\", \"Wyatt\", \"Carter\", \"Samuel\", \"Owen\", \"William\", \"Waylon\", \"Ezekiel\", \"Miles\", \"Matthew\", \"Isaiah\", \"Jacob\", \"Santiago\", \"Caleb\", \"John\", \"Joseph\", \"Thomas\", \"Adam\", \"Amir\", \"Isaac\", \"Nolan\", \"Nathan\", \"Zion\", \"Jeremiah\", \"Lincoln\", \"Adrian\", \"Anthony\", \"Cooper\", \"Eli\", \"Micah\", \"Cameron\", \"Enzo\", \"Ryan\", \"Roman\", \"Rowan\", \"Xavier\", \"Jaxon\", \"Wesley\", \"Weston\", \"Andrew\", \"Joshua\", \"Silas\", \"Colton\", \"Charlie\", \"Parker\", \"Christopher\", \"Greyson\", \"Luka\", \"Atlas\", \"Dominic\", \"Christian\", \"Myles\", \"Brooks\", \"Kayden\", \"Austin\", \"Aaron\", \"Omar\", \"Amari\", \"Axel\", \"Beau\", \"Jasper\", \"Landon\", \"Max\"]"
      ],
      "metadata": {
        "id": "_GE6xvequ7Tg"
      },
      "execution_count": null,
      "outputs": []
    },
    {
      "cell_type": "code",
      "source": [
        "random_names_m = np.random.choice(names_m, (50,1))"
      ],
      "metadata": {
        "id": "hvy2ogZju7Mb"
      },
      "execution_count": null,
      "outputs": []
    },
    {
      "cell_type": "code",
      "source": [
        "random_age_f = np.random.randint(18, 49, (50,1)) # Generates an age between 18 and 49\n",
        "random_age_m = np.random.randint(18, 49, (50,1))"
      ],
      "metadata": {
        "id": "RNof0HlC9K1U"
      },
      "execution_count": null,
      "outputs": []
    },
    {
      "cell_type": "code",
      "source": [
        "course = [\"english\", \"italian\", \"german\", \"portuguese\", \"polish\", \"dutch\", \"spanish\", \"french\", \"czech\" ]"
      ],
      "metadata": {
        "id": "pYIKRr9k9Qjr"
      },
      "execution_count": null,
      "outputs": []
    },
    {
      "cell_type": "code",
      "source": [
        "random_course_f = np.random.choice(course, (50,1))\n",
        "random_course_m = np.random.choice(course, (50,1))"
      ],
      "metadata": {
        "id": "u88kihLd9QZ7"
      },
      "execution_count": null,
      "outputs": []
    },
    {
      "cell_type": "code",
      "source": [
        "level = [\"A1\", \"A2\", \"B1\", \"B2\", \"C1\", \"C2\"]"
      ],
      "metadata": {
        "id": "A7R2TA9b9nHy"
      },
      "execution_count": null,
      "outputs": []
    },
    {
      "cell_type": "code",
      "source": [
        "random_level_f = np.random.choice(level, (50,1))\n",
        "random_level_m = np.random.choice(level, (50,1))"
      ],
      "metadata": {
        "id": "FGE3jPgC9r86"
      },
      "execution_count": null,
      "outputs": []
    },
    {
      "cell_type": "code",
      "source": [
        "random_points_f = np.random.randint(40, 100, (50,1)) # Generates points between 0 and 100\n",
        "random_points_m = np.random.randint(40, 100, (50,1))"
      ],
      "metadata": {
        "id": "IQnXaWPw9QrE"
      },
      "execution_count": null,
      "outputs": []
    },
    {
      "cell_type": "code",
      "source": [
        "df_f[\"name\"]= pd.DataFrame(random_names_f)\n",
        "df_m[\"name\"]= pd.DataFrame(random_names_m)\n",
        "df_f[\"age\"]= pd.DataFrame(random_age_f)\n",
        "df_m[\"age\"]= pd.DataFrame(random_age_m)\n",
        "df_f[\"course\"]= pd.DataFrame(random_course_f)\n",
        "df_m[\"course\"]= pd.DataFrame(random_course_m)\n",
        "df_f[\"level\"] = pd.DataFrame(random_level_f)\n",
        "df_m[\"level\"] = pd.DataFrame(random_level_m)\n",
        "df_f[\"points\"] = pd.DataFrame(random_points_f)\n",
        "df_m[\"points\"] = pd.DataFrame(random_points_m)"
      ],
      "metadata": {
        "id": "KHa6YLYV1eFv"
      },
      "execution_count": null,
      "outputs": []
    },
    {
      "cell_type": "code",
      "source": [
        "# df_total = pd.DataFrame(df_f,df_m)\n",
        "# df_total.to_excel('data/240312_Techlabs_Students_total.xlsx')\n",
        "# Versuch die beiden Dateien in einer Datei zu kombinieren bisher nicht erfolgreich"
      ],
      "metadata": {
        "id": "O-v3Uy74_gyy"
      },
      "execution_count": null,
      "outputs": []
    },
    {
      "cell_type": "code",
      "source": [
        "df_f.to_excel('data/240310_Techlabs_Students_female.xlsx')\n",
        "df_m.to_excel('data/240310_Techlabs_Students_male.xlsx')"
      ],
      "metadata": {
        "id": "Uyo83z5W2F_A"
      },
      "execution_count": null,
      "outputs": []
    }
  ]
}